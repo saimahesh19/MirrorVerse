{
 "cells": [
  {
   "cell_type": "code",
   "execution_count": null,
   "metadata": {},
   "outputs": [
    {
     "ename": "",
     "evalue": "",
     "output_type": "error",
     "traceback": [
      "\u001b[1;31mRunning cells with 'c:\\Python311\\python.exe' requires the ipykernel package.\n",
      "\u001b[1;31mRun the following command to install 'ipykernel' into the Python environment. \n",
      "\u001b[1;31mCommand: 'c:/Python311/python.exe -m pip install ipykernel -U --user --force-reinstall'"
     ]
    }
   ],
   "source": [
    "import numpy as np\n",
    "import cv2\n",
    "\n",
    "# Function to apply edge mask\n",
    "def edge_mask(img, line_size, blur_value):\n",
    "    gray = cv2.cvtColor(img, cv2.COLOR_BGR2GRAY)\n",
    "    gray_blur = cv2.medianBlur(gray, 7)\n",
    "    edges = cv2.adaptiveThreshold(gray_blur, 255, cv2.ADAPTIVE_THRESH_MEAN_C, cv2.THRESH_BINARY, line_size, blur_value)\n",
    "    return edges\n",
    "\n",
    "# Function to reduce the number of colors in the photo\n",
    "def color_quantization(img, k):\n",
    "    data = np.float32(img).reshape((-1, 3))\n",
    "    criteria = (cv2.TERM_CRITERIA_EPS + cv2.TERM_CRITERIA_MAX_ITER, 20, 0.001)\n",
    "    ret, label, center = cv2.kmeans(data, k, None, criteria, 10, cv2.KMEANS_RANDOM_CENTERS)\n",
    "    center = np.uint8(center)\n",
    "    result = center[label.flatten()]\n",
    "    result = result.reshape(img.shape)\n",
    "    return result\n",
    "\n",
    "# Function to cartoonify the image\n",
    "def cartoonify(img):\n",
    "    # Generate edge mask\n",
    "    line_size = 9\n",
    "    blur_value = 9\n",
    "    edges = edge_mask(img, line_size, blur_value)\n",
    "\n",
    "    # Color quantization\n",
    "    total_color = 9\n",
    "    img = color_quantization(img, total_color)\n",
    "\n",
    "    # Bilateral filter to reduce noise\n",
    "    d = 9  # Diameter of each pixel neighborhood\n",
    "    sigmaColor = 75  # A larger value means larger areas of semi-equal color\n",
    "    sigmaSpace = 75  # A larger value means farther pixels will influence each other\n",
    "    blurred = cv2.bilateralFilter(img, d, sigmaColor, sigmaSpace)\n",
    "\n",
    "    # Cartoonify the image\n",
    "    cartoon = cv2.bitwise_and(blurred, blurred, mask=edges)\n",
    "\n",
    "    return cartoon\n",
    "\n",
    "# Open the camera\n",
    "cap = cv2.VideoCapture(0)\n",
    "\n",
    "while True:\n",
    "    ret, frame = cap.read()\n",
    "    if not ret:\n",
    "        break\n",
    "\n",
    "    # Cartoonify the frame\n",
    "    cartoon_frame = cartoonify(frame)\n",
    "\n",
    "    # Display the cartoonified frame\n",
    "    cv2.imshow(\"Cartoonified Frame\", cartoon_frame)\n",
    "\n",
    "    # Break the loop if 'q' is pressed\n",
    "    if cv2.waitKey(1) & 0xFF == ord('q'):\n",
    "        break\n",
    "\n",
    "# Release the camera and close windows\n",
    "cap.release()\n",
    "cv2.destroyAllWindows()\n"
   ]
  }
 ],
 "metadata": {
  "kernelspec": {
   "display_name": "Python 3",
   "language": "python",
   "name": "python3"
  },
  "language_info": {
   "name": "python",
   "version": "3.11.2"
  }
 },
 "nbformat": 4,
 "nbformat_minor": 2
}
